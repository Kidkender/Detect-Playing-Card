{
 "cells": [
  {
   "cell_type": "code",
   "execution_count": null,
   "metadata": {},
   "outputs": [],
   "source": [
    "import os\n",
    "import random\n",
    "from ultralytics import YOLO\n",
    "import matplotlib.pyplot as plt\n",
    "from PIL import Image\n",
    "import cv2\n",
    "from termcolor import colored\n",
    "\n",
    "import pandas as pd\n",
    "import seaborn as sns\n",
    "sns.set_style('darkgrid')"
   ]
  },
  {
   "cell_type": "code",
   "execution_count": null,
   "metadata": {},
   "outputs": [],
   "source": [
    "# Path of dataset\n",
    "base_dir = './datasets'\n",
    "# base_dir = '/kaggle/input/playing-cards-object-detection-dataset'\n",
    "\n",
    "# Path of yaml file\n",
    "yaml_path = os.path.join(base_dir, 'data.yaml')\n",
    "\n",
    "# Path of Train directory\n",
    "train_dir = os.path.join(base_dir, 'train')\n",
    "train_images = os.path.join(train_dir, 'images')\n",
    "\n",
    "# Path of Validation directory\n",
    "valid_dir = os.path.join(base_dir, 'valid')\n",
    "valid_images = os.path.join(valid_dir, 'images')\n",
    "\n",
    "# Path of Test directory\n",
    "test_dir = os.path.join(base_dir, 'test')\n",
    "test_images = os.path.join(test_dir, 'images')"
   ]
  },
  {
   "cell_type": "code",
   "execution_count": null,
   "metadata": {},
   "outputs": [],
   "source": [
    "# All the classes from yaml file\n",
    "class_names = ['10c', '10d', '10h', '10s', '2c', '2d', '2h', '2s', '3c', '3d', '3h', '3s', '4c', '4d', '4h', '4s', '5c', '5d', '5h', '5s', '6c', '6d', '6h', '6s', '7c', '7d', '7h', '7s', '8c', '8d', '8h', '8s', '9c', '9d', '9h', '9s', 'Ac', 'Ad', 'Ah', 'As', 'Jc', 'Jd', 'Jh', 'Js', 'Kc', 'Kd', 'Kh', 'Ks', 'Qc', 'Qd', 'Qh', 'Qs']\n",
    "print(colored(f'Number of Classes : {len(class_names)}', 'green', attrs=['bold']))"
   ]
  },
  {
   "cell_type": "code",
   "execution_count": null,
   "metadata": {},
   "outputs": [],
   "source": [
    "print(colored(f'Number of Train Images : {len(os.listdir(train_images))}', 'blue', attrs=['bold']))\n",
    "print(colored(f'Number of Validation Images : {len(os.listdir(valid_images))}', 'blue', attrs=['bold']))\n",
    "print(colored(f'Number of Test Images : {len(os.listdir(test_images))}', 'blue', attrs=['bold']))"
   ]
  },
  {
   "cell_type": "code",
   "execution_count": null,
   "metadata": {},
   "outputs": [],
   "source": [
    "# Define a set to store unique sizes\n",
    "size = set()\n",
    "\n",
    "# Loop over train images to check image sizes\n",
    "for img_name in os.listdir(train_images) :\n",
    "    img_path = os.path.join(train_images, img_name)\n",
    "    img = cv2.imread(img_path)\n",
    "    h, w, c = img.shape\n",
    "    size.add((h, w, c))\n",
    "\n",
    "if len(size) == 1 :\n",
    "    print(colored(f'All of images have size of {(w, h, c)}', 'green', attrs=['bold']))\n",
    "else :\n",
    "    print(colored(f'There are {len(size)} different image sizes !', 'red', attrs=['bold']))"
   ]
  },
  {
   "cell_type": "code",
   "execution_count": null,
   "metadata": {},
   "outputs": [],
   "source": [
    "img_size = (h, w)"
   ]
  },
  {
   "cell_type": "code",
   "execution_count": null,
   "metadata": {},
   "outputs": [],
   "source": [
    "translate_cards = {\n",
    "    's' : 'Spades',\n",
    "    'c' : 'Clubs',\n",
    "    'h' : 'Hearts',\n",
    "    'd' : 'Diamonds',\n",
    "    'A' : 'Ace',\n",
    "    'K' : 'King',\n",
    "    'Q' : 'Queen',\n",
    "    'J' : 'Jack'\n",
    "}\n"
   ]
  },
  {
   "cell_type": "code",
   "execution_count": null,
   "metadata": {},
   "outputs": [],
   "source": [
    "def label_translator(labels) :\n",
    "    ''' Translate chars to labels '''\n",
    "    translated_label = ''\n",
    "\n",
    "    for card in labels :\n",
    "\n",
    "        if card[0] in ['A', 'K', 'Q', 'J'] :\n",
    "            c0 = translate_cards[card[0]]\n",
    "        else :\n",
    "            if len(card) == 2 :\n",
    "                c0 = card[0]\n",
    "            elif len(card) == 3 :\n",
    "                c0 = card[:2]\n",
    "\n",
    "        card = c0 + '-' + translate_cards[card[-1]]\n",
    "\n",
    "        translated_label += card + '\\n'\n",
    "        \n",
    "    translated_label = translated_label[:-1]\n",
    "        \n",
    "    return translated_label"
   ]
  },
  {
   "cell_type": "code",
   "execution_count": null,
   "metadata": {},
   "outputs": [],
   "source": [
    "def Draw_Bounding_Boxes(img_name) :\n",
    "    ''' Show image / Draw boxes / Write class label '''\n",
    "    img_path = os.path.join(train_images, img_name)\n",
    "    img_path\n",
    "\n",
    "    yaml_name = img_name[:-4] + '.txt'\n",
    "    yaml_path = os.path.join(os.path.join(train_dir, 'labels'), yaml_name)\n",
    "\n",
    "    title = []\n",
    "\n",
    "    font = cv2.FONT_HERSHEY_SIMPLEX\n",
    "\n",
    "    img = cv2.imread(img_path)\n",
    "    img = cv2.cvtColor(img, cv2.COLOR_BGR2RGB)\n",
    "\n",
    "\n",
    "    f1 = open(yaml_path, \"r\")\n",
    "    f2 = open(yaml_path, \"r\")\n",
    "\n",
    "    for i in range(len(f1.readlines())) :\n",
    "        text = f2.readline()\n",
    "\n",
    "        yaml = text.split()\n",
    "\n",
    "        class_name = class_names[int(yaml[0])]\n",
    "        if class_name not in title :\n",
    "            title.append(class_name)\n",
    "\n",
    "\n",
    "        x_center = int(float(yaml[1]) * 416)\n",
    "        y_center = int(float(yaml[2]) * 416)\n",
    "        w = int(float(yaml[3]) * 416)\n",
    "        h = int(float(yaml[4]) * 416)\n",
    "\n",
    "        x1 = x_center - int(w/2)\n",
    "        y1 = y_center - int(h/2)\n",
    "\n",
    "        x2 = x_center + int(w/2)\n",
    "        y2 = y_center + int(h/2)\n",
    "\n",
    "        # Draw rectangles and text on image\n",
    "        cv2.rectangle(img, (x1, y1), (x2, y2), (0, 255, 0), 2, cv2.LINE_AA)\n",
    "        cv2.rectangle(img, (x1+5, y1-35), (x1+65, y1-5), (255, 255, 255), -1, cv2.LINE_AA)\n",
    "        cv2.putText(img, class_name, (x1+10, y1-10), font, 1, (0, 0, 255), 2, cv2.LINE_AA)\n",
    "\n",
    "    title = label_translator(title)\n",
    "    plt.title(title, fontsize=10, fontweight='bold')\n",
    "    plt.axis('off')\n",
    "    plt.imshow(img)"
   ]
  },
  {
   "cell_type": "code",
   "execution_count": null,
   "metadata": {},
   "outputs": [],
   "source": [
    "images = os.listdir(train_images)\n",
    "num_samples = 15\n",
    "\n",
    "random_images = random.choices(images, k=num_samples)\n",
    "\n",
    "plt.figure(figsize=(12, 8), dpi=200)\n",
    "for i in range(15) :\n",
    "    plt.subplot(3, 5, i+1)\n",
    "    Draw_Bounding_Boxes(random_images[i])\n",
    "plt.show()\n"
   ]
  },
  {
   "cell_type": "code",
   "execution_count": null,
   "metadata": {},
   "outputs": [],
   "source": [
    "# Load a row model and load trained weights to it\n",
    "model = YOLO('yolov8n.yaml').load('yolov8n.pt')\n",
    "\n",
    "\n",
    "# Train the model\n",
    "result = model.train(data=yaml_path, epochs=150, imgsz=img_size[0])"
   ]
  },
  {
   "cell_type": "code",
   "execution_count": null,
   "metadata": {},
   "outputs": [],
   "source": [
    "# Location of stored result\n",
    "result_path = result.save_dir"
   ]
  },
  {
   "cell_type": "code",
   "execution_count": null,
   "metadata": {},
   "outputs": [],
   "source": [
    "# List of some metrics\n",
    "metrics = ['results.png','confusion_matrix.png', 'P_curve.png', 'PR_curve.png']\n",
    "\n",
    "plt.figure(figsize=(15, 12))\n",
    "i = 1\n",
    "\n",
    "for image_name in metrics:\n",
    "    image_path = os.path.join(result_path, image_name)\n",
    "    image = cv2.imread(image_path)\n",
    "    \n",
    "    plt.subplot(2, 2, i)\n",
    "    \n",
    "    plt.imshow(image)\n",
    "    plt.title(image_name)\n",
    "    i += 1\n",
    "\n",
    "plt.show()"
   ]
  },
  {
   "cell_type": "code",
   "execution_count": null,
   "metadata": {},
   "outputs": [],
   "source": [
    "# Read csv of result\n",
    "df = pd.read_csv(os.path.join(result_path, 'results.csv'))\n",
    "df.tail(5)"
   ]
  },
  {
   "cell_type": "code",
   "execution_count": null,
   "metadata": {},
   "outputs": [],
   "source": [
    "# Strip columns\n",
    "df.columns = df.columns.str.strip()\n",
    "df.columns"
   ]
  },
  {
   "cell_type": "code",
   "execution_count": null,
   "metadata": {},
   "outputs": [],
   "source": [
    "# Define X, y to plot\n",
    "X = df.epoch\n",
    "cols = df.columns[1:]\n",
    "\n",
    "plt.figure(figsize=(15, 25))\n",
    "\n",
    "for it in range(len(cols)) :\n",
    "    plt.subplot(7, 2, it+1)\n",
    "    ax = sns.lineplot(data=df, x=X, y=cols[it])\n",
    "    ax.set_title(cols[it])\n",
    "plt.suptitle('Training Metrics and Loss', fontsize=24)\n",
    "plt.subplots_adjust(top=0.6)\n",
    "plt.tight_layout()\n",
    "plt.show()"
   ]
  },
  {
   "cell_type": "code",
   "execution_count": null,
   "metadata": {},
   "outputs": [],
   "source": [
    "# Load model with best weights\n",
    "best_model_path = os.path.join(result_path, 'weights/best.pt')\n",
    "\n",
    "best_model = YOLO(best_model_path)"
   ]
  },
  {
   "cell_type": "code",
   "execution_count": null,
   "metadata": {},
   "outputs": [],
   "source": [
    "# Evaluating the model\n",
    "result_test = best_model.val()"
   ]
  },
  {
   "cell_type": "code",
   "execution_count": null,
   "metadata": {},
   "outputs": [],
   "source": [
    "result_test"
   ]
  },
  {
   "cell_type": "code",
   "execution_count": null,
   "metadata": {},
   "outputs": [],
   "source": [
    "keys = ['metrics/precision(B)', 'metrics/recall(B)', 'metrics/mAP50(B)', 'metrics/mAP50-95(B)']\n",
    "\n",
    "for key in keys :\n",
    "    print(colored(f'{key} : {result_test.results_dict[key]}', 'green', attrs=['bold']))"
   ]
  },
  {
   "cell_type": "markdown",
   "metadata": {},
   "source": [
    "### Test predictions"
   ]
  },
  {
   "cell_type": "code",
   "execution_count": null,
   "metadata": {},
   "outputs": [],
   "source": [
    "from PIL import Image\n",
    "\n",
    "# test_img = \"labai1.jpg\"\n",
    "test_img = \"./datasets/test/images/2024-08-12-22-35-03_mp4-0007_jpg.rf.eda4a8f142fed9363991917a420ede69.jpg\"\n",
    "img1 = Image.open(test_img)\n",
    "\n",
    "\n",
    "result = best_model.predict([img1], save=True, conf=0.1, iou=0.7)"
   ]
  },
  {
   "cell_type": "code",
   "execution_count": null,
   "metadata": {},
   "outputs": [],
   "source": []
  }
 ],
 "metadata": {
  "kernelspec": {
   "display_name": ".venv",
   "language": "python",
   "name": "python3"
  },
  "language_info": {
   "codemirror_mode": {
    "name": "ipython",
    "version": 3
   },
   "file_extension": ".py",
   "mimetype": "text/x-python",
   "name": "python",
   "nbconvert_exporter": "python",
   "pygments_lexer": "ipython3",
   "version": "3.11.9"
  }
 },
 "nbformat": 4,
 "nbformat_minor": 2
}
